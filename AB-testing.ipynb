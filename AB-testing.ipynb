{
 "cells": [
  {
   "cell_type": "code",
   "execution_count": 5,
   "metadata": {},
   "outputs": [
    {
     "data": {
      "text/plain": [
       "'\\nAuthor: Jun Dai\\n'"
      ]
     },
     "execution_count": 5,
     "metadata": {},
     "output_type": "execute_result"
    }
   ],
   "source": [
    "'''\n",
    "Author: Jun Dai\n",
    "'''"
   ]
  },
  {
   "cell_type": "markdown",
   "metadata": {
    "slideshow": {
     "slide_type": "slide"
    }
   },
   "source": [
    "<h1><center> A/B testing </center></h1>\n",
    "\n",
    "A/B testing, also refers to split testing, refers to an experiment technique to determine whether a new design brings improvement, according to a chosen metric."
   ]
  },
  {
   "cell_type": "markdown",
   "metadata": {
    "slideshow": {
     "slide_type": "slide"
    }
   },
   "source": [
    "<img src=\"https://cdn.ttgtmedia.com/rms/onlineimages/mobile_computing-ab_testing.png\">\n",
    "\n",
    "image source: https://cdn.ttgtmedia.com/rms/onlineimages/mobile_computing-ab_testing.png\n",
    "\n"
   ]
  },
  {
   "cell_type": "markdown",
   "metadata": {
    "slideshow": {
     "slide_type": "slide"
    }
   },
   "source": [
    "\n",
    "<img src='http://delaneyknight.files.wordpress.com/2014/04/a-b-testing.jpg'>\n",
    "image source: http://delaneyknight.files.wordpress.com/2014/04/a-b-testing.jpg\n",
    "\n",
    "## 40.6% increase conversion rate and 57 million fundraising funds."
   ]
  },
  {
   "cell_type": "markdown",
   "metadata": {
    "slideshow": {
     "slide_type": "slide"
    }
   },
   "source": [
    "<img src='https://i.vimeocdn.com/video/707769762_1280x720.jpg'>\n",
    "image source: https://i.vimeocdn.com/video/707769762_1280x720.jpg\n"
   ]
  },
  {
   "cell_type": "markdown",
   "metadata": {
    "slideshow": {
     "slide_type": "slide"
    }
   },
   "source": [
    "<h1><center>How to Conduct A/B Testing?</center></h1>\n",
    "\n",
    "#### 1. Customer funnel; funnel analysis for each action step; netflix example\n",
    "\n",
    "#### 2. Define metrics \n",
    "Target increase rate: click through rate, registration rate, conversion rate, renewal rate, retention rate, etc.\n",
    "#### 3. Form hypothesis\n",
    "Hypothesis test, Null hypothesis\n",
    "#### 4. Formulate Test plan\n",
    "Make a plan to define \"good\"\n"
   ]
  },
  {
   "cell_type": "markdown",
   "metadata": {
    "slideshow": {
     "slide_type": "slide"
    }
   },
   "source": [
    "#### 5. Create variation\n",
    "direct compare a variation against a current experiene, including data collection in this step.\n",
    "#### 6. Run experiment\n",
    "choose significance level, statistical power, pratical significance level\n",
    "#### 7. Analyse test result\n",
    "sanity check, single metric evaluation and cross checking with different methods\n",
    "#### 8. Conclusion\n",
    "do you want to launch the change? does it worth to?"
   ]
  },
  {
   "cell_type": "markdown",
   "metadata": {
    "slideshow": {
     "slide_type": "slide"
    }
   },
   "source": [
    "### Practical Significance\n",
    "\n",
    "\n",
    "<img src='https://qph.fs.quoracdn.net/main-qimg-c1881cfe2fa79a744e496a5850fceed0.webp'>\n",
    "\n",
    "#### Type-I error\n",
    " \n",
    "#### Type-II error\n",
    "\n",
    "#### statistical power (sensitivity 1-$\\beta$)\n",
    "\n",
    "With a common go-to $\\alpha$ criterion of 5%, we have pvalue$<\\alpha$ and $H_0$ can be rejected with confidence.\n",
    "\n",
    "Q: When shall we use other $\\alpha$ values? Under what kind of circumenstances?\n"
   ]
  },
  {
   "cell_type": "markdown",
   "metadata": {
    "slideshow": {
     "slide_type": "slide"
    }
   },
   "source": [
    "## Raw Data\n",
    "\n",
    "<img src='https://cdn0.tnwcdn.com/wp-content/blogs.dir/1/files/2015/07/ABtesting-1200x600.png'>\n",
    "\n",
    "|version  | #sessions | avg. time | std. time | con. ratio\n",
    "|---|---|---|---|---\n",
    "|A | 6000 | 60 | 40 | 1.5%\n",
    "|B | 4000 | 62 | 45 | 2.0%\n"
   ]
  },
  {
   "cell_type": "markdown",
   "metadata": {
    "slideshow": {
     "slide_type": "slide"
    }
   },
   "source": [
    "## $Z$ test on average time  (Q: Z-test vs T-test?)\n",
    "\n",
    "### Why the following formula\n",
    "\n",
    "$Z = \\frac{\\mu_A - \\mu_B}{\\sqrt{{\\sigma_A^2}/{n_A}+{\\sigma_B^2}/{n_B}}}$   ## Note: this is for unequal variance Z-test\n",
    "\n",
    "\n",
    "### Hypothesises\n",
    "\n",
    "$H_0$: the average time spent is the same for the two versions\n",
    "\n",
    "$H_1$: the average time spent is higher for version B"
   ]
  },
  {
   "cell_type": "code",
   "execution_count": 1,
   "metadata": {
    "slideshow": {
     "slide_type": "slide"
    }
   },
   "outputs": [],
   "source": [
    "import numpy as np\n",
    "import scipy\n",
    "from scipy.stats import norm, chi2"
   ]
  },
  {
   "cell_type": "code",
   "execution_count": 2,
   "metadata": {
    "slideshow": {
     "slide_type": "slide"
    }
   },
   "outputs": [
    {
     "name": "stdout",
     "output_type": "stream",
     "text": [
      "Z value is: 2.2749\n",
      "p-value is: 0.0115\n"
     ]
    }
   ],
   "source": [
    "## Z test on time, the average time differs, and variances are not close, use the unequal Z-test\n",
    "\n",
    "mu_A = 60\n",
    "mu_B = 62\n",
    "var_A = 40**2\n",
    "var_B = 45**2\n",
    "n_A =6000\n",
    "n_B =4000\n",
    "Z = (mu_B-mu_A)/(np.sqrt(var_A/n_A+var_B/n_B))\n",
    "print('Z value is: {:.4f}\\np-value is: {:.4f}'.format(Z, norm.sf(Z)))\n",
    "\n"
   ]
  },
  {
   "cell_type": "markdown",
   "metadata": {
    "slideshow": {
     "slide_type": "slide"
    }
   },
   "source": [
    "p-value smaller than 5%, rejected the $H_0$"
   ]
  },
  {
   "cell_type": "code",
   "execution_count": 3,
   "metadata": {
    "slideshow": {
     "slide_type": "slide"
    }
   },
   "outputs": [
    {
     "data": {
      "text/plain": [
       "<matplotlib.collections.PolyCollection at 0x293b6b1eb08>"
      ]
     },
     "execution_count": 3,
     "metadata": {},
     "output_type": "execute_result"
    },
    {
     "data": {
      "image/png": "[encoded data removed]",
      "text/plain": [
       "<Figure size 432x288 with 1 Axes>"
      ]
     },
     "metadata": {
      "needs_background": "light"
     },
     "output_type": "display_data"
    }
   ],
   "source": [
    "%matplotlib inline\n",
    "import matplotlib.pyplot as plt\n",
    "\n",
    "z = np.arange(-4, 4, 0.1)\n",
    "plt.plot(z, norm.pdf(z))\n",
    "plt.fill_between(z[z>Z], norm.pdf(z[z>Z]))\n",
    "#plt.show()"
   ]
  },
  {
   "cell_type": "markdown",
   "metadata": {
    "slideshow": {
     "slide_type": "slide"
    }
   },
   "source": [
    "## $\\chi^2$ Test on conversion rate\n",
    "\n",
    "### Hypothesises:\n",
    "$H_0$: ''the conversion rate is the same for the two versions''\n",
    "\n",
    "$H_1$: ''the conversion rate is higher for version B''\n",
    "\n",
    "$\\textbf{Q: Why shall we use $\\chi^2$ test here, instead of $Z-$test? }$"
   ]
  },
  {
   "cell_type": "markdown",
   "metadata": {
    "slideshow": {
     "slide_type": "slide"
    }
   },
   "source": [
    "|type|converted|not converted|\n",
    "|---|---|---|\n",
    "|A|90|5910|\n",
    "|B|80|3920|\n",
    "\n",
    "The averaged converted ratio: (90+80)/10000=0.017"
   ]
  },
  {
   "cell_type": "code",
   "execution_count": 4,
   "metadata": {
    "slideshow": {
     "slide_type": "slide"
    }
   },
   "outputs": [
    {
     "name": "stdout",
     "output_type": "stream",
     "text": [
      "chi value is: 3.5904\n",
      "p-value is: 0.0581\n"
     ]
    },
    {
     "data": {
      "text/plain": [
       "<matplotlib.collections.PolyCollection at 0x293b78b3448>"
      ]
     },
     "execution_count": 4,
     "metadata": {},
     "output_type": "execute_result"
    },
    {
     "data": {
      "image/png": "[encoded data removed]",
      "text/plain": [
       "<Figure size 432x288 with 1 Axes>"
      ]
     },
     "metadata": {
      "needs_background": "light"
     },
     "output_type": "display_data"
    }
   ],
   "source": [
    "## typical chi suqred distribution\n",
    "O_x = np.array([90, 5910, 80, 3920])\n",
    "T_x = np.array([102, 5898, 68, 3932])\n",
    "chi = np.sum(np.square(O_x-T_x)/T_x)\n",
    "print('chi value is: {:.4f}\\np-value is: {:.4f}'.format(chi, chi2.sf(chi, df=1)))\n",
    "\n",
    "X  = np.arange(0,6,0.1)\n",
    "y = chi2.pdf(X, df=1)\n",
    "#plt.ylim(0,0.4)\n",
    "plt.plot(X, y)\n",
    "plt.fill_between(X[X>chi], chi2.pdf(X[X>chi], df=1))"
   ]
  },
  {
   "cell_type": "markdown",
   "metadata": {
    "slideshow": {
     "slide_type": "slide"
    }
   },
   "source": [
    "p-value larger than 5%, which indicates $H_0$ should be kept"
   ]
  },
  {
   "cell_type": "markdown",
   "metadata": {
    "slideshow": {
     "slide_type": "slide"
    }
   },
   "source": [
    "<h1><center>\n",
    "Open Question: Talk about how will you sketch up an A/B testing regarding halloween for Walmart?\n",
    "</center></h1>"
   ]
  },
  {
   "cell_type": "markdown",
   "metadata": {
    "slideshow": {
     "slide_type": "slide"
    }
   },
   "source": [
    "## A/B testing v.s. Machine Learning\n",
    "\n",
    "1. A/B testing tells you the best of two\n",
    "2. ML: much more (thousands of) variations feed into the system as data, requires more data and more complex design\n",
    "3. Which one to go, dependes on whether you have the data, and how much test you want to invest\n",
    "4. RNN could possibly be able to optimize a website/design in real time, requires high traffic\n",
    "5. A/B testing, 1 variable vs. multi variables in ML\n",
    "6. A/B human analysis, ML automated"
   ]
  }
 ],
 "metadata": {
  "kernelspec": {
   "display_name": "Python 3",
   "language": "python",
   "name": "python3"
  },
  "language_info": {
   "codemirror_mode": {
    "name": "ipython",
    "version": 3
   },
   "file_extension": ".py",
   "mimetype": "text/x-python",
   "name": "python",
   "nbconvert_exporter": "python",
   "pygments_lexer": "ipython3",
   "version": "3.7.4"
  }
 },
 "nbformat": 4,
 "nbformat_minor": 2
}
